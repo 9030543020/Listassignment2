{
 "cells": [
  {
   "cell_type": "code",
   "execution_count": 19,
   "metadata": {
    "id": "gtlAv2oq9yzd"
   },
   "outputs": [
    {
     "name": "stdout",
     "output_type": "stream",
     "text": [
      "Please enter how many numbers do you want to enter:\n",
      "4\n",
      "Enter the elements:\n",
      "10\n",
      "20\n",
      "30\n",
      "40\n",
      "The sum of list elements: 100\n"
     ]
    }
   ],
   "source": [
    "#Write a Python program to find the sum of all elements in a list using loop.\n",
    "#Input:- [10,20,30,40]\n",
    "#Output:- 100\n",
    "\n",
    "print(\"Please enter how many numbers do you want to enter:\")\n",
    "ran=int(input())\n",
    "ls1=[]\n",
    "sun=0\n",
    "print(\"Enter the elements:\")\n",
    "for i in range(0, ran):\n",
    "    num=int(input())\n",
    "    ls1.append(num)\n",
    "\n",
    "for k in ls1:\n",
    "    sun=sun+k\n",
    "print(\"The sum of list elements:\",sun)\n"
   ]
  },
  {
   "cell_type": "code",
   "execution_count": 21,
   "metadata": {
    "id": "gTbA8psa93Y_"
   },
   "outputs": [
    {
     "name": "stdout",
     "output_type": "stream",
     "text": [
      "Please enter how many numbers do you want to enter:\n",
      "4\n",
      "Enter the elements:\n",
      "10\n",
      "20\n",
      "30\n",
      "40\n",
      "The sum of list elements: 240000\n"
     ]
    }
   ],
   "source": [
    "### 2# Write a Python program to find the multiplication of all elements in a list using loop.\n",
    "#Input:- [10,20,30,40]\n",
    "#Output:- 240000\n",
    "\n",
    "print(\"Please enter how many numbers do you want to enter:\")\n",
    "ran=int(input())\n",
    "ls1=[]\n",
    "sun=1\n",
    "print(\"Enter the elements:\")\n",
    "for i in range(0, ran):\n",
    "    num=int(input())\n",
    "    ls1.append(num)\n",
    "\n",
    "for k in ls1:\n",
    "    sun=sun*k\n",
    "print(\"The multiplication of list elements:\",sun)\n"
   ]
  },
  {
   "cell_type": "code",
   "execution_count": 25,
   "metadata": {
    "id": "XBCrEtLN94Lj"
   },
   "outputs": [
    {
     "name": "stdout",
     "output_type": "stream",
     "text": [
      "Please enter how many numbers do you want to enter:\n",
      "4\n",
      "Enter the elements:\n",
      "1\n",
      "7\n",
      "43\n",
      "33\n",
      "The largest number of list elements: 43\n"
     ]
    }
   ],
   "source": [
    "#Write a Python program to find the largest number from a list using loop.\n",
    "#Input:- [10,100,2321, 1,200,2]\n",
    "#Output:- 2321\n",
    "\n",
    "print(\"Please enter how many numbers do you want to enter:\")\n",
    "ran=int(input())\n",
    "ls1=[]\n",
    "sun=1\n",
    "print(\"Enter the elements:\")\n",
    "for i in range(0, ran):\n",
    "    num=int(input())\n",
    "    ls1.append(num)\n",
    "\n",
    "ls1.sort()    \n",
    "\n",
    "print(\"The largest number of list elements:\",ls1[-1])\n"
   ]
  },
  {
   "cell_type": "code",
   "execution_count": 26,
   "metadata": {
    "id": "l3paUtbH94Vw"
   },
   "outputs": [
    {
     "name": "stdout",
     "output_type": "stream",
     "text": [
      "Please enter how many numbers do you want to enter:\n",
      "3\n",
      "Enter the elements:\n",
      "45\n",
      "356\n",
      "467\n",
      "The smallest number of list elements: 45\n"
     ]
    }
   ],
   "source": [
    "#Write a Python program to find the smallest number from a list using loop.\n",
    "#Input:- [10,100,2321, 1,200,2]\n",
    "#Output:- 1\n",
    "\n",
    "\n",
    "print(\"Please enter how many numbers do you want to enter:\")\n",
    "ran=int(input())\n",
    "ls1=[]\n",
    "sun=1\n",
    "print(\"Enter the elements:\")\n",
    "for i in range(0, ran):\n",
    "    num=int(input())\n",
    "    ls1.append(num)\n",
    "\n",
    "ls1.sort()    \n",
    "\n",
    "print(\"The smallest number of list elements:\",ls1[0])\n"
   ]
  },
  {
   "cell_type": "code",
   "execution_count": 31,
   "metadata": {
    "id": "JTVgy5VD94cE"
   },
   "outputs": [
    {
     "name": "stdout",
     "output_type": "stream",
     "text": [
      "the count of strings having length more than two and are palindrome 2\n"
     ]
    }
   ],
   "source": [
    "#Write a Python program to count the number of strings having length more than 2 and are palindrome in a list using loop.\n",
    "#Input:- ['ab', 'abc', 'aba', 'xyz', '1991']\n",
    "#Output:- 2\n",
    "\n",
    "ls1= ['ab', 'abc', 'aba', 'xyz', '1991']\n",
    "i = 0\n",
    "count = 0\n",
    "for i in ls1:\n",
    "    if len(i) > 1 and i[0] == i[-1]:\n",
    "      count += 1\n",
    "    \n",
    "    \n",
    "print(\"the count of strings having length more than two and are palindrome\", count)"
   ]
  },
  {
   "cell_type": "code",
   "execution_count": 34,
   "metadata": {
    "id": "xs-ZGJbJ94gr"
   },
   "outputs": [
    {
     "name": "stdout",
     "output_type": "stream",
     "text": [
      "[1, 2, 9, 10, 65, 80, 100, 298, 483, 9213, 49876]\n"
     ]
    }
   ],
   "source": [
    "#Write a Python program to sort a list in ascending order using loop.\n",
    "#Input:- [100,10,1,298,65,483,49876,2,80,9,9213]\n",
    "#Output:- [1,2,9,10,65,80,100,298,483,9213,49876]\n",
    "\n",
    "str1=[100,10,1,298,65,483,49876,2,80,9,9213]\n",
    "i = 0\n",
    "for i in range(0, len(str1)):\n",
    "    for j in range(i+1, len(str1)):\n",
    "        if str1[i] > str1[j]:\n",
    "            temp = str1[i]\n",
    "            str1[i] = str1[j]\n",
    "            str1[j] = temp\n",
    "print(str1)\n"
   ]
  },
  {
   "cell_type": "code",
   "execution_count": 39,
   "metadata": {
    "id": "VhKQJizZ94kg"
   },
   "outputs": [
    {
     "name": "stdout",
     "output_type": "stream",
     "text": [
      "[(9, 1), (2, 3), (5, 4), (5, 5), (7, 6), (5, 9)]\n"
     ]
    }
   ],
   "source": [
    "#Write a Python program to get a sorted list in increasing order of last element in each tuple in a given list using loop.\n",
    "#Input:- [(5,4),(9,1),(2,3),(5,9),(7,6),(5,5)]\n",
    "#output:- [(9,1),(2,3),(5,4),(5,5),(7,6),(5,9)]\n",
    "\n",
    "\n",
    "str1=[(5,4),(9,1),(2,3),(5,9),(7,6),(5,5)]\n",
    "lst = len(str1) \n",
    "for i in range(0, len(str1)): \n",
    "    for j in range(0, (len(str1)-i)-1):\n",
    "        if (str1[j][-1] > str1[j + 1][-1]):\n",
    "            temp = str1[j]\n",
    "            str1[j]= str1[j + 1]\n",
    "            str1[j + 1]= temp \n",
    "print(str1)"
   ]
  },
  {
   "cell_type": "code",
   "execution_count": 45,
   "metadata": {
    "id": "YJrCLYp694n_"
   },
   "outputs": [
    {
     "name": "stdout",
     "output_type": "stream",
     "text": [
      "[10, 1, 11, 29, 876, 768, 92]\n"
     ]
    }
   ],
   "source": [
    "#Write a Python program to remove fuplicate element from a list using loop.\n",
    "#Input:- [10,1,11,1,29,876,768,10,11,1,92,29,876]\n",
    "#Output:- [10,1,11,29,876,768,92]\n",
    "\n",
    "str1=[10,1,11,1,29,876,768,10,11,1,92,29,876]\n",
    "str2=[]\n",
    "for i in str1:\n",
    "    if i not in str2:\n",
    "        str2.append(i)\n",
    "print(str2)\n",
    "\n",
    "\n"
   ]
  },
  {
   "cell_type": "code",
   "execution_count": 48,
   "metadata": {
    "id": "koYe4YCu94rh"
   },
   "outputs": [
    {
     "name": "stdout",
     "output_type": "stream",
     "text": [
      "List is empty\n"
     ]
    }
   ],
   "source": [
    "#Write a Python program to check a list is empty or not?\n",
    "#Input:- []\n",
    "#Output:- List is empty\n",
    "#Input:- [10,20,30]\n",
    "#Output:- List is not empty\n",
    "\n",
    "\n",
    "str1=[]\n",
    "if len(str1):\n",
    "    print(\"List is not empty\")\n",
    "else:\n",
    "    print(\"List is empty\")"
   ]
  },
  {
   "cell_type": "code",
   "execution_count": 52,
   "metadata": {
    "id": "mES1WANa94u5"
   },
   "outputs": [
    {
     "name": "stdout",
     "output_type": "stream",
     "text": [
      "[10, 10.2, (10+20j), 'Python', [10, 20], (10, 20)]\n"
     ]
    }
   ],
   "source": [
    "#Write a Python program to copy a list using loop.\n",
    "#inp_lst = [10,10.20,10+20j, 'Python', [10,20], (10,20)]\n",
    "#out_lst = [10,10.20,10+20j, 'Python', [10,20], (10,20)]\n",
    "\n",
    "\n",
    "str1=[10,10.20,10+20j, 'Python', [10,20], (10,20)]\n",
    "str2=[]\n",
    "for i in str1:\n",
    "    str2.append(i)\n",
    "print(str2)\n"
   ]
  },
  {
   "cell_type": "code",
   "execution_count": 72,
   "metadata": {
    "id": "CpBh31WO94yi"
   },
   "outputs": [
    {
     "name": "stdout",
     "output_type": "stream",
     "text": [
      "['much', 'wood', 'would', 'woodchuck', 'chuck', 'could']\n"
     ]
    }
   ],
   "source": [
    "#Write a Python program to find the list of words that are longer than or equal to 4 from a given string.\n",
    "#Input:- 'How much wood would a woodchuck chuck if a woodchuck could chuck wood'\n",
    "#Output:- ['much', 'wood', 'would', 'woodchuck', 'chuck', 'could']\n",
    "#Note:- Duplicate should be avoided.\n",
    "\n",
    "\n",
    "str1=\"How much wood would a woodchuck chuck if a woodchuck could chuck wood\"\n",
    "str2=str1.split()\n",
    "str3=[]\n",
    "for i in str2:\n",
    "    le=len(i)\n",
    "    if (i not in str3) and (int(le)>=4):\n",
    "        str3.append(i)\n",
    "print(str3)"
   ]
  },
  {
   "cell_type": "code",
   "execution_count": 96,
   "metadata": {
    "id": "YVfj0fgZ9416"
   },
   "outputs": [
    {
     "name": "stdout",
     "output_type": "stream",
     "text": [
      "True\n"
     ]
    }
   ],
   "source": [
    "#Write a Python program which takes two list as input and returns True if they have at least 3 common elements.\n",
    "#inp_lst1 = [10,20,'Python', 10.20, 10+20j, [10,20,30], (10,20,30)]\n",
    "#inp_lst2 = [(10,20,30),1,20+3j,100.2, 10+20j, [10,20,30],'Python']\n",
    "#Output:- True\n",
    "\n",
    "\n",
    "str1=[10,20,'Python', 10.20, 10+20j, [10,20,30], (10,20,30),1]\n",
    "str2=[(10,20,30),1,20+3j,100.2, 10+20j, [10,20,30],'Python']\n",
    "i = 0\n",
    "coun=0\n",
    "for i in range(0, len(str1)-1):\n",
    "    for j in range(0, len(str2)-1):\n",
    "        if str1[j]==str2[i]:\n",
    "            coun+=1\n",
    "#print(coun)\n",
    "if coun >= 3:\n",
    "    print(\"True\")\n",
    "else:\n",
    "    print(\"False\")\n",
    "        "
   ]
  },
  {
   "cell_type": "code",
   "execution_count": 12,
   "metadata": {
    "id": "7vwc3pjR945O"
   },
   "outputs": [
    {
     "name": "stdout",
     "output_type": "stream",
     "text": [
      "[[0, 0, 0, 0], [0, 1, 2, 3], [0, 2, 4, 6], [0, 3, 6, 9]]\n"
     ]
    }
   ],
   "source": [
    "#Write a Python program to create a 4X4 2D matrix with below elements using loop and list comprehension both.\n",
    "#Output:- [[0,0,0,0],[0,1,2,3],[0,2,4,6],[0,3,6,9]]\n",
    "\n",
    "i=0\n",
    "j=0\n",
    "mat=[[0 for col in range(4)] for row in range(4)]\n",
    "for i in range(4):    \n",
    "    for j in range(4):\n",
    "        mat[i][j]=i*j\n",
    "print(mat)\n"
   ]
  },
  {
   "cell_type": "code",
   "execution_count": 23,
   "metadata": {
    "id": "Pxafor84948b"
   },
   "outputs": [
    {
     "name": "stdout",
     "output_type": "stream",
     "text": [
      "[[[0, 0, 0, 0, 0, 0], [0, 0, 0, 0, 0, 0], [0, 0, 0, 0, 0, 0], [0, 0, 0, 0, 0, 0]], [[0, 0, 0, 0, 0, 0], [1, 1, 1, 1, 1, 1], [2, 2, 2, 2, 2, 2], [3, 3, 3, 3, 3, 3]], [[0, 0, 0, 0, 0, 0], [2, 2, 2, 2, 2, 2], [4, 4, 4, 4, 4, 4], [6, 6, 6, 6, 6, 6]]]\n"
     ]
    }
   ],
   "source": [
    "#Write a Python program to create a 3X4X6 3D matrix wiith below elements using loop\n",
    "#Output:- \n",
    "# [\n",
    "#     [[0,0,0,0,0,0],[0,0,0,0,0,0],[0,0,0,0,0,0],[0,0,0,0,0,0]],\n",
    "#     [[0,0,0,0,0,0],[1,1,1,1,1,1],[2,2,2,2,2,2],[3,3,3,3,3,3]],\n",
    "#     [[0,0,0,0,0,0],[2,2,2,2,2,2],[4,4,4,4,4,4],[6,6,6,6,6,6]]\n",
    "# ]\n",
    "\n",
    "\n",
    "list_1 = [[[col*row for i in range(6)]  for col in range(4)] for row in range(3)]\n",
    "print(list_1)\n",
    "\n",
    "\n",
    "\n"
   ]
  },
  {
   "cell_type": "code",
   "execution_count": 25,
   "metadata": {
    "id": "lYNv8gk794_p"
   },
   "outputs": [
    {
     "name": "stdout",
     "output_type": "stream",
     "text": [
      "[21, 87, 45, 33, 1]\n"
     ]
    }
   ],
   "source": [
    "#Write a Python program which takes a list of numbers as input and prints a new list after removing even numbers from it.\n",
    "#Input:- [10,21,22,98,87,45,33,1,2,100]\n",
    "#Output:- [21,87,45,33,1]\n",
    "\n",
    "str1 = [10,21,22,98,87,45,33,1,2,100]\n",
    "str2 = []\n",
    "i=0\n",
    "for i in str1:\n",
    "    if i % 2 == 1:\n",
    "        str2.append(i)\n",
    "\n",
    "print(str2)\n"
   ]
  },
  {
   "cell_type": "code",
   "execution_count": 36,
   "metadata": {
    "id": "3BaCb-rB95B7"
   },
   "outputs": [
    {
     "name": "stdout",
     "output_type": "stream",
     "text": [
      "[2, 10, 1, 100, 45, 21, 87, 22, 98, 33]\n"
     ]
    }
   ],
   "source": [
    "#Write a Python program which takes a list from the user and prints it after reshuffling the elements of the list.\n",
    "#Input:- [10,21,22,98,87,45,33,1,2,100]\n",
    "#Output:- [1,87,21,10,33,2,100,45,98,22] (It may be any randon list but with same elements)\n",
    "\n",
    "import random as rand\n",
    "\n",
    "str1 = [10,21,22,98,87,45,33,1,2,100]\n",
    "rand.shuffle(str1)\n",
    "\n",
    "print(str1)"
   ]
  },
  {
   "cell_type": "code",
   "execution_count": null,
   "metadata": {},
   "outputs": [],
   "source": []
  },
  {
   "cell_type": "code",
   "execution_count": null,
   "metadata": {},
   "outputs": [],
   "source": []
  }
 ],
 "metadata": {
  "colab": {
   "name": "List_Assignment.ipynb",
   "provenance": []
  },
  "kernelspec": {
   "display_name": "Python 3 (ipykernel)",
   "language": "python",
   "name": "python3"
  },
  "language_info": {
   "codemirror_mode": {
    "name": "ipython",
    "version": 3
   },
   "file_extension": ".py",
   "mimetype": "text/x-python",
   "name": "python",
   "nbconvert_exporter": "python",
   "pygments_lexer": "ipython3",
   "version": "3.9.13"
  }
 },
 "nbformat": 4,
 "nbformat_minor": 1
}
